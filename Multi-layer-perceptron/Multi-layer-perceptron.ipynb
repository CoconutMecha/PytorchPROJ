{
 "cells": [
  {
   "cell_type": "code",
   "execution_count": 1,
   "id": "3c98ca66",
   "metadata": {},
   "outputs": [],
   "source": [
    "#数据集来源kaggle:HR Analytics\n",
    "import torch\n",
    "import numpy as np\n",
    "import pandas as pd"
   ]
  },
  {
   "cell_type": "code",
   "execution_count": null,
   "id": "4c10d18d",
   "metadata": {},
   "outputs": [],
   "source": [
    "#1.查看数据\n",
    "url = \"./HR-Employee-Attrition.csv\" "
   ]
  },
  {
   "cell_type": "code",
   "execution_count": null,
   "id": "c2eb3a58",
   "metadata": {},
   "outputs": [],
   "source": [
    "data = pd.read_csv(url)"
   ]
  },
  {
   "cell_type": "code",
   "execution_count": null,
   "id": "662d14af",
   "metadata": {},
   "outputs": [],
   "source": [
    "data.head()"
   ]
  },
  {
   "cell_type": "code",
   "execution_count": null,
   "id": "4ca01d89",
   "metadata": {},
   "outputs": [],
   "source": [
    "data.shape\n",
    "data.info()"
   ]
  },
  {
   "cell_type": "code",
   "execution_count": null,
   "id": "e72603b9",
   "metadata": {},
   "outputs": [],
   "source": [
    "data.columns"
   ]
  },
  {
   "cell_type": "code",
   "execution_count": null,
   "id": "b0cb00eb",
   "metadata": {},
   "outputs": [],
   "source": [
    "#2.预处理数据集，one-hot处理"
   ]
  },
  {
   "cell_type": "code",
   "execution_count": null,
   "id": "08f11cd0",
   "metadata": {},
   "outputs": [],
   "source": [
    "BusinessTravel_0 = pd.get_dummies(data.BusinessTravel)\n",
    "Department_0 = pd.get_dummies(data.Department)\n",
    "EducationField_0 = pd.get_dummies(data.EducationField)\n",
    "Gender_0 = pd.get_dummies(data.Gender)\n",
    "JobRole_0 = pd.get_dummies(data.JobRole)\n",
    "MaritalStatus_0 = pd.get_dummies(data.MaritalStatus)\n",
    "Over18_0 = pd.get_dummies(data.Over18)\n",
    "OverTime_0 = pd.get_dummies(data.OverTime)\n",
    "\n",
    "\n",
    "#删除多列\n",
    "data = data.drop(['BusinessTravel','Department','EducationField','Gender','JobRole','MaritalStatus','Over18','OverTime'],axis=1)"
   ]
  },
  {
   "cell_type": "code",
   "execution_count": null,
   "id": "55e8c38e",
   "metadata": {},
   "outputs": [],
   "source": [
    "list = [BusinessTravel_0,Department_0,EducationField_0,Gender_0,JobRole_0,MaritalStatus_0,Over18_0,OverTime_0]\n",
    "for item in list:\n",
    "    data = data.join(item,rsuffix='_r')\n"
   ]
  },
  {
   "cell_type": "code",
   "execution_count": null,
   "id": "f2f22ad1",
   "metadata": {},
   "outputs": [],
   "source": [
    "data"
   ]
  },
  {
   "cell_type": "code",
   "execution_count": null,
   "id": "c368a0ec",
   "metadata": {},
   "outputs": [],
   "source": [
    "#处理特征数据YES-1 NO-0\n",
    "data['Attrition'] = data['Attrition'].replace([\"Yes\",\"No\"],[1,0])"
   ]
  },
  {
   "cell_type": "code",
   "execution_count": null,
   "id": "95ad3c0f",
   "metadata": {},
   "outputs": [],
   "source": [
    "data"
   ]
  },
  {
   "cell_type": "code",
   "execution_count": null,
   "id": "17ac12c4",
   "metadata": {},
   "outputs": [],
   "source": [
    "#3.划分训练集和测试集\n",
    "all_counts = len(data)\n",
    "train_counts = int(all_counts*0.7)\n",
    "test_counts = all_counts - train_counts\n",
    "\n",
    "train_data  = data.iloc[:train_counts,:]\n",
    "test_data = data.iloc[train_counts:,:]"
   ]
  },
  {
   "cell_type": "code",
   "execution_count": null,
   "id": "17855978",
   "metadata": {},
   "outputs": [],
   "source": [
    "#4.配置输入数据和输出数据 X,Y\n",
    "Y = torch.from_numpy(train_data.iloc[:,1:2].values).type(torch.float32)"
   ]
  },
  {
   "cell_type": "code",
   "execution_count": null,
   "id": "e9334cdb",
   "metadata": {
    "scrolled": true
   },
   "outputs": [],
   "source": [
    "Y"
   ]
  },
  {
   "cell_type": "code",
   "execution_count": null,
   "id": "0b889b70",
   "metadata": {},
   "outputs": [],
   "source": [
    "del train_data['Attrition']\n",
    "X = torch.from_numpy(train_data.values).type(torch.float32)"
   ]
  },
  {
   "cell_type": "code",
   "execution_count": null,
   "id": "3627b41e",
   "metadata": {},
   "outputs": [],
   "source": [
    "train_data"
   ]
  },
  {
   "cell_type": "code",
   "execution_count": null,
   "id": "78b88d64",
   "metadata": {},
   "outputs": [],
   "source": [
    "X.shape"
   ]
  },
  {
   "cell_type": "code",
   "execution_count": null,
   "id": "13580a14",
   "metadata": {},
   "outputs": [],
   "source": [
    "Y.shape"
   ]
  },
  {
   "cell_type": "code",
   "execution_count": null,
   "id": "29302399",
   "metadata": {},
   "outputs": [],
   "source": [
    "#5.创建多层感知机\n",
    "from torch import nn "
   ]
  },
  {
   "cell_type": "code",
   "execution_count": null,
   "id": "f9809d20",
   "metadata": {},
   "outputs": [],
   "source": [
    "class Model(nn.Module):\n",
    "    def __init__(self):\n",
    "        super().__init__()\n",
    "        self.linear_1 = nn.Linear(55,64)\n",
    "        self.linear_2 = nn.Linear(64,64)\n",
    "        self.linear_3 = nn.Linear(64,1)\n",
    "        self.relu = nn.ReLU()\n",
    "        self.sigmoid = nn.Sigmoid()\n",
    "    def forward(self,input):\n",
    "        x = self.linear_1(input)\n",
    "        x = self.relu(x)\n",
    "        x = self.linear_2(x)\n",
    "        x = self.relu(x)\n",
    "        x = self.linear_3(x)\n",
    "        x = self.sigmoid(x)\n",
    "        return x"
   ]
  },
  {
   "cell_type": "code",
   "execution_count": null,
   "id": "b9382c28",
   "metadata": {},
   "outputs": [],
   "source": [
    "model = Model()\n",
    "#设置学习率和优化函数\n",
    "lr = 0.0001\n",
    "opt = torch.optim.Adam(model.parameters(),lr=lr)"
   ]
  },
  {
   "cell_type": "code",
   "execution_count": null,
   "id": "97ba8c04",
   "metadata": {},
   "outputs": [],
   "source": [
    "model.parameters()"
   ]
  },
  {
   "cell_type": "code",
   "execution_count": null,
   "id": "df885dd6",
   "metadata": {},
   "outputs": [],
   "source": [
    "#6.训练\n",
    "#损失函数\n",
    "loss_fun = nn.BCELoss()\n",
    "#batch\n",
    "batch = 64\n",
    "n_batches = len(train_data)//batch\n",
    "#epoch\n",
    "epochs = 5000"
   ]
  },
  {
   "cell_type": "code",
   "execution_count": null,
   "id": "3ee3210f",
   "metadata": {},
   "outputs": [],
   "source": [
    "for epoch in range(epochs):\n",
    "    for i in range(n_batches):\n",
    "        start = i*batch\n",
    "        end = start + batch\n",
    "        x = X[start:end]\n",
    "        y = Y[start:end]\n",
    "        y_pred = model(x)\n",
    "        loss = loss_fun(y_pred,y)\n",
    "        #反向传播前先将梯度置为0\n",
    "        opt.zero_grad()\n",
    "        #反向传播\n",
    "        loss.backward()\n",
    "        opt.step()\n",
    "        "
   ]
  },
  {
   "cell_type": "code",
   "execution_count": null,
   "id": "25f1bec1",
   "metadata": {},
   "outputs": [],
   "source": [
    "loss_fun(model(X),Y)"
   ]
  },
  {
   "cell_type": "code",
   "execution_count": null,
   "id": "19b6838b",
   "metadata": {},
   "outputs": [],
   "source": [
    "data['Attrition'].value_counts()"
   ]
  },
  {
   "cell_type": "code",
   "execution_count": null,
   "id": "dbfb3fa5",
   "metadata": {},
   "outputs": [],
   "source": [
    "27/(1233+237)"
   ]
  },
  {
   "cell_type": "code",
   "execution_count": null,
   "id": "73f35afb",
   "metadata": {},
   "outputs": [],
   "source": [
    "((model(X).data.numpy()>0.5).astype('int') == Y.numpy()).mean()"
   ]
  },
  {
   "cell_type": "code",
   "execution_count": null,
   "id": "d7a8ba02",
   "metadata": {},
   "outputs": [],
   "source": []
  }
 ],
 "metadata": {
  "kernelspec": {
   "display_name": "pytorch-gpu",
   "language": "python",
   "name": "pytorch-gpu"
  },
  "language_info": {
   "codemirror_mode": {
    "name": "ipython",
    "version": 3
   },
   "file_extension": ".py",
   "mimetype": "text/x-python",
   "name": "python",
   "nbconvert_exporter": "python",
   "pygments_lexer": "ipython3",
   "version": "3.7.16"
  }
 },
 "nbformat": 4,
 "nbformat_minor": 5
}
