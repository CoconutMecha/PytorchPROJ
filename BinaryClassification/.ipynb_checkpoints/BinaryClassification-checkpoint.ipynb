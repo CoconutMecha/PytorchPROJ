{
 "cells": [
  {
   "cell_type": "code",
   "execution_count": null,
   "id": "36756030",
   "metadata": {},
   "outputs": [],
   "source": [
    "import torch\n",
    "import pandas as pd\n",
    "import numpy as np\n",
    "import matplotlib.pyplot as plt"
   ]
  },
  {
   "cell_type": "code",
   "execution_count": null,
   "id": "dbde8f93",
   "metadata": {},
   "outputs": [],
   "source": [
    "data_url = \"./data/credit-a.csv\""
   ]
  },
  {
   "cell_type": "code",
   "execution_count": null,
   "id": "9e94a988",
   "metadata": {},
   "outputs": [],
   "source": [
    "data = pd.read_csv(data_url,header=None)"
   ]
  },
  {
   "cell_type": "code",
   "execution_count": null,
   "id": "53348adf",
   "metadata": {},
   "outputs": [],
   "source": [
    "data.info()"
   ]
  },
  {
   "cell_type": "code",
   "execution_count": null,
   "id": "f565b11c",
   "metadata": {},
   "outputs": [],
   "source": [
    "data.head()"
   ]
  },
  {
   "cell_type": "code",
   "execution_count": null,
   "id": "49788ca3",
   "metadata": {},
   "outputs": [],
   "source": [
    "X = data.iloc[:,:-1]\n",
    "Y = data.iloc[:,-1]"
   ]
  },
  {
   "cell_type": "code",
   "execution_count": null,
   "id": "3f65752f",
   "metadata": {},
   "outputs": [],
   "source": [
    "Y"
   ]
  },
  {
   "cell_type": "code",
   "execution_count": null,
   "id": "eece7e18",
   "metadata": {},
   "outputs": [],
   "source": [
    "Y.unique()"
   ]
  },
  {
   "cell_type": "code",
   "execution_count": null,
   "id": "1748d51b",
   "metadata": {},
   "outputs": [],
   "source": [
    "Y = data.iloc[:,-1].replace(-1,0)"
   ]
  },
  {
   "cell_type": "code",
   "execution_count": null,
   "id": "308517f7",
   "metadata": {},
   "outputs": [],
   "source": [
    "Y.unique()"
   ]
  },
  {
   "cell_type": "code",
   "execution_count": null,
   "id": "939063b8",
   "metadata": {},
   "outputs": [],
   "source": [
    "#转换为tensor\n",
    "X = torch.from_numpy(X.values).type(torch.float32)\n",
    "Y = torch.from_numpy(Y.values.reshape(-1,1)).type(torch.float32)"
   ]
  },
  {
   "cell_type": "code",
   "execution_count": null,
   "id": "6bf2aca0",
   "metadata": {},
   "outputs": [],
   "source": [
    "X.shape"
   ]
  },
  {
   "cell_type": "code",
   "execution_count": null,
   "id": "c940802b",
   "metadata": {},
   "outputs": [],
   "source": [
    "Y.shape"
   ]
  },
  {
   "cell_type": "code",
   "execution_count": null,
   "id": "07244ca4",
   "metadata": {},
   "outputs": [],
   "source": [
    "from torch import nn"
   ]
  },
  {
   "cell_type": "code",
   "execution_count": null,
   "id": "4295ea9a",
   "metadata": {},
   "outputs": [],
   "source": [
    "model = nn.Sequential(\n",
    "    nn.Linear(15,1),\n",
    "    nn.Sigmoid()\n",
    ")"
   ]
  },
  {
   "cell_type": "code",
   "execution_count": null,
   "id": "2caf97a4",
   "metadata": {},
   "outputs": [],
   "source": [
    "model"
   ]
  },
  {
   "cell_type": "code",
   "execution_count": null,
   "id": "886a1484",
   "metadata": {},
   "outputs": [],
   "source": [
    "loss_fun = nn.BCELoss() #二元交叉熵"
   ]
  },
  {
   "cell_type": "code",
   "execution_count": null,
   "id": "ee742ae2",
   "metadata": {},
   "outputs": [],
   "source": [
    "opt = torch.optim.Adam(model.parameters(),lr=0.0001)"
   ]
  },
  {
   "cell_type": "code",
   "execution_count": null,
   "id": "ac514cbe",
   "metadata": {},
   "outputs": [],
   "source": [
    "batch_n = 653//16  #每次取16个"
   ]
  },
  {
   "cell_type": "code",
   "execution_count": null,
   "id": "6242f68f",
   "metadata": {},
   "outputs": [],
   "source": [
    "for epoch in range(1000):\n",
    "    for batch in range(batch_n):\n",
    "        start = batch * 16\n",
    "        end = start + 16\n",
    "        x = X[start:end]\n",
    "        y = Y[start:end]\n",
    "        y_pred = model(x)\n",
    "        loss = loss_fun(y_pred,y)\n",
    "        #梯度清零\n",
    "        opt.zero_grad()\n",
    "        loss.backward()\n",
    "        opt.step()"
   ]
  },
  {
   "cell_type": "code",
   "execution_count": null,
   "id": "51e059f7",
   "metadata": {},
   "outputs": [],
   "source": [
    "model.state_dict()#查看权重"
   ]
  },
  {
   "cell_type": "code",
   "execution_count": null,
   "id": "5bf77dad",
   "metadata": {},
   "outputs": [],
   "source": [
    "#查看正确率"
   ]
  },
  {
   "cell_type": "code",
   "execution_count": null,
   "id": "dac4acb4",
   "metadata": {},
   "outputs": [],
   "source": [
    "model(X).data.numpy()"
   ]
  },
  {
   "cell_type": "code",
   "execution_count": null,
   "id": "b3ca78ad",
   "metadata": {},
   "outputs": [],
   "source": [
    "(model(X).data.numpy() > 0.5).astype(np.int64)"
   ]
  },
  {
   "cell_type": "code",
   "execution_count": null,
   "id": "5a5ff296",
   "metadata": {},
   "outputs": [],
   "source": [
    "Y"
   ]
  },
  {
   "cell_type": "code",
   "execution_count": null,
   "id": "8ed112f2",
   "metadata": {},
   "outputs": [],
   "source": [
    "(model(X).data.numpy() > 0.5).astype(np.int64) == Y.numpy()"
   ]
  },
  {
   "cell_type": "code",
   "execution_count": null,
   "id": "682c2261",
   "metadata": {},
   "outputs": [],
   "source": [
    "((model(X).data.numpy() > 0.5).astype(np.int64) == Y.numpy()).mean()#0，1数据求平均即可得平均值"
   ]
  },
  {
   "cell_type": "code",
   "execution_count": null,
   "id": "f13ff99f",
   "metadata": {},
   "outputs": [],
   "source": []
  }
 ],
 "metadata": {
  "kernelspec": {
   "display_name": "pytorch-gpu",
   "language": "python",
   "name": "pytorch-gpu"
  },
  "language_info": {
   "codemirror_mode": {
    "name": "ipython",
    "version": 3
   },
   "file_extension": ".py",
   "mimetype": "text/x-python",
   "name": "python",
   "nbconvert_exporter": "python",
   "pygments_lexer": "ipython3",
   "version": "3.7.16"
  }
 },
 "nbformat": 4,
 "nbformat_minor": 5
}
